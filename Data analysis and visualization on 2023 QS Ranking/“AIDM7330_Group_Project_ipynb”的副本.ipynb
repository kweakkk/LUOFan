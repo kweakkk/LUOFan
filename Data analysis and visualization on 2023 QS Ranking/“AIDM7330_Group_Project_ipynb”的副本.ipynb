{
  "cells": [
    {
      "cell_type": "markdown",
      "metadata": {
        "id": "i7UBcJQPlLJx"
      },
      "source": [
        "# AIDM7330 Group Project"
      ]
    },
    {
      "cell_type": "markdown",
      "source": [
        "Group Name: Patrol Paw\n"
      ],
      "metadata": {
        "id": "dza6eIjXVkRG"
      }
    },
    {
      "cell_type": "markdown",
      "source": [
        "# Introduction\n",
        "This project uses basic data analysis methods to show the specific performance of Hong Kong and mainland universities in the world rankings, including implementing higher-ranked universities in various academic assessments and geographical distribution."
      ],
      "metadata": {
        "id": "EXgww6R0p7ie"
      }
    },
    {
      "cell_type": "markdown",
      "metadata": {
        "id": "Svt7dHGApqTz"
      },
      "source": [
        "## Preparation"
      ]
    },
    {
      "cell_type": "code",
      "execution_count": null,
      "metadata": {
        "id": "zSpNTtkO5SrA"
      },
      "outputs": [],
      "source": [
        "import pandas as pd\n",
        "import folium\n",
        "import json\n",
        "from IPython.display import IFrame\n",
        "import warnings\n",
        "warnings.filterwarnings(action='ignore', category=RuntimeWarning)"
      ]
    },
    {
      "cell_type": "code",
      "execution_count": null,
      "metadata": {
        "id": "Tx9FqutnlZAo"
      },
      "outputs": [],
      "source": [
        "%matplotlib inline"
      ]
    },
    {
      "cell_type": "code",
      "execution_count": null,
      "metadata": {
        "id": "eh2ebeKwuqU0"
      },
      "outputs": [],
      "source": [
        "import matplotlib.pyplot as plt\n",
        "import seaborn as sns"
      ]
    },
    {
      "cell_type": "markdown",
      "metadata": {
        "id": "XiOtn2G6lII7"
      },
      "source": [
        "## Connected data"
      ]
    },
    {
      "cell_type": "code",
      "execution_count": null,
      "metadata": {
        "colab": {
          "base_uri": "https://localhost:8080/"
        },
        "id": "XrAy_ZePlb3s",
        "outputId": "97f4608e-70c6-4d1e-c21d-d080fe67645b"
      },
      "outputs": [
        {
          "output_type": "stream",
          "name": "stdout",
          "text": [
            "Mounted at /content/drive\n"
          ]
        }
      ],
      "source": [
        "from google.colab import drive\n",
        "drivePath = '/content/drive' #please do not change\n",
        "drive.mount(drivePath)"
      ]
    },
    {
      "cell_type": "code",
      "execution_count": null,
      "metadata": {
        "colab": {
          "base_uri": "https://localhost:8080/"
        },
        "id": "AW5NqqkClerF",
        "outputId": "34124472-44ff-4b00-db0e-7620a1a7f254"
      },
      "outputs": [
        {
          "output_type": "stream",
          "name": "stdout",
          "text": [
            "Collecting wget\n",
            "  Downloading wget-3.2.zip (10 kB)\n",
            "  Preparing metadata (setup.py) ... \u001b[?25l\u001b[?25hdone\n",
            "Building wheels for collected packages: wget\n",
            "  Building wheel for wget (setup.py) ... \u001b[?25l\u001b[?25hdone\n",
            "  Created wheel for wget: filename=wget-3.2-py3-none-any.whl size=9657 sha256=6e8fbed25b821b0a8fccafb341aae2e2203790afdf5a3cd84e7674847c4cc923\n",
            "  Stored in directory: /root/.cache/pip/wheels/8b/f1/7f/5c94f0a7a505ca1c81cd1d9208ae2064675d97582078e6c769\n",
            "Successfully built wget\n"
          ]
        }
      ],
      "source": [
        "# Install the library on your environment\n",
        "!pip install wget"
      ]
    },
    {
      "cell_type": "code",
      "execution_count": null,
      "metadata": {
        "id": "vraK3AjUljOK"
      },
      "outputs": [],
      "source": [
        "# Import the library\n",
        "import wget\n",
        "\n",
        "# Setup URL and path variables\n",
        "baseURL = 'https://kweakkk.github.io/'\n",
        "doc = 'HK-2021-2023.csv'\n",
        "fullURL = baseURL + doc\n",
        "\n",
        "dataPath = drivePath + '/MyDrive/Colab Notebooks/data'\n",
        "\n",
        "# Download the file\n",
        "fileName1 = wget.download(fullURL, out=dataPath)\n",
        "\n",
        "# Print the file name including the local path\n",
        "print(fileName1)"
      ]
    },
    {
      "cell_type": "code",
      "execution_count": null,
      "metadata": {
        "id": "B7F0sdj7nWRu"
      },
      "outputs": [],
      "source": [
        "# Setup URL and path variables\n",
        "baseURL = 'https://kweakkk.github.io/'\n",
        "doc = 'China_mainland_-2021-2023_1_.csv'\n",
        "fullURL = baseURL + doc\n",
        "\n",
        "dataPath = drivePath + '/MyDrive/Colab Notebooks/data'\n",
        "\n",
        "# Download the file\n",
        "fileName2 = wget.download(fullURL, out=dataPath)\n",
        "\n",
        "# Print the file name including the local path\n",
        "print(fileName2)"
      ]
    },
    {
      "cell_type": "markdown",
      "metadata": {
        "id": "uZQ7LHPdnl9L"
      },
      "source": [
        "## Check the Data"
      ]
    },
    {
      "cell_type": "code",
      "execution_count": null,
      "metadata": {
        "id": "elI3_N9Unnuh"
      },
      "outputs": [],
      "source": [
        "#Hong Kong data\n",
        "hk=pd.read_csv(fileName1)"
      ]
    },
    {
      "cell_type": "code",
      "execution_count": null,
      "metadata": {
        "id": "Ia2uHFfJnuAg"
      },
      "outputs": [],
      "source": [
        "#mainland data\n",
        "mainland=pd.read_csv(fileName2)"
      ]
    },
    {
      "cell_type": "code",
      "execution_count": null,
      "metadata": {
        "id": "3bs5zxkJn13n"
      },
      "outputs": [],
      "source": [
        "hk.tail(5)"
      ]
    },
    {
      "cell_type": "code",
      "execution_count": null,
      "metadata": {
        "id": "Mf2sh5qen3kF"
      },
      "outputs": [],
      "source": [
        "mainland.tail(5)"
      ]
    },
    {
      "cell_type": "markdown",
      "metadata": {
        "id": "8yymcRp-fJMm"
      },
      "source": [
        "## Explore the data structure"
      ]
    },
    {
      "cell_type": "code",
      "execution_count": null,
      "metadata": {
        "id": "2qBPzTUCetOE"
      },
      "outputs": [],
      "source": [
        "hk.columns"
      ]
    },
    {
      "cell_type": "code",
      "execution_count": null,
      "metadata": {
        "id": "tfBqM5Fpe8Nx"
      },
      "outputs": [],
      "source": [
        "mainland.columns"
      ]
    },
    {
      "cell_type": "code",
      "execution_count": null,
      "metadata": {
        "id": "FyA1HjDHfDjx"
      },
      "outputs": [],
      "source": [
        "hk.info"
      ]
    },
    {
      "cell_type": "markdown",
      "metadata": {
        "id": "tlwoT4Hfp2SI"
      },
      "source": [
        "## Data exploration and visualization"
      ]
    },
    {
      "cell_type": "markdown",
      "metadata": {
        "id": "mzRpCM1IvBS7"
      },
      "source": [
        "#### Q1: What is the change in the rankings of QS 500 mainland Chinese universities in the world?"
      ]
    },
    {
      "cell_type": "code",
      "source": [
        "data = pd.read_csv(fileName2)\n",
        "\n",
        "rank_change_data = data.pivot(index='University_name', columns='Year', values='World_rank')\n",
        "\n",
        "# Calculate the rank change between 2021 and 2023\n",
        "rank_change_data['Rank_Change_2021_to_2023'] = rank_change_data[2021] - rank_change_data[2023]\n",
        "\n",
        "# Sort the universities based on rank change\n",
        "rank_change_data_sorted = rank_change_data.sort_values(by='Rank_Change_2021_to_2023', ascending=False).reset_index()\n",
        "\n",
        "rank_change_data_sorted.head()\n"
      ],
      "metadata": {
        "id": "u1uD7QKrO8bs"
      },
      "execution_count": null,
      "outputs": []
    },
    {
      "cell_type": "code",
      "source": [
        "sns.set(style=\"whitegrid\")\n",
        "\n",
        "plt.figure(figsize=(10, 7))\n",
        "sns.barplot(data=rank_change_data_sorted, x='Rank_Change_2021_to_2023', y='University_name')\n",
        "plt.title('Rank Change of Chinese Mainland Universities (2021-2023)')\n",
        "plt.xlabel('Rank Change')\n",
        "plt.ylabel('University')\n",
        "plt.show()\n"
      ],
      "metadata": {
        "id": "BA9NK2MbPHIA"
      },
      "execution_count": null,
      "outputs": []
    },
    {
      "cell_type": "markdown",
      "source": [
        "Finding：We can find some universities that have significantly improved their rankings over a three-year period. For example, the rankings of Southern University of Science and Technology and Huazhong University of Science and Technology have improved most significantly, improving by 97 and 90 places respectively; the ranking of Shanghai University has dropped by about 40 places; the rankings of Nankai University and Fudan University have been relatively stable."
      ],
      "metadata": {
        "id": "jiGyVo0ARFhu"
      }
    },
    {
      "cell_type": "markdown",
      "metadata": {
        "id": "wDVDohw8LP7a"
      },
      "source": [
        "#### Q2: What is the comprehensive score of universities in different cities from 2021 to 2023?"
      ]
    },
    {
      "cell_type": "code",
      "source": [
        "data = pd.read_csv(fileName2)\n",
        "plt.figure(figsize=(14, 7))\n",
        "sns.boxplot(x='Region', y='Overall_score', data=data)\n",
        "\n",
        "plt.title('Overall score performance of universities in different cities (2021-2023)')\n",
        "plt.xlabel('Region')\n",
        "plt.ylabel('Overall_scores')\n",
        "\n",
        "plt.grid(True)\n",
        "plt.tight_layout()\n",
        "plt.show()\n"
      ],
      "metadata": {
        "id": "tjcUGcNFGQo1"
      },
      "execution_count": null,
      "outputs": []
    },
    {
      "cell_type": "markdown",
      "metadata": {
        "id": "0MAOlbBzP5Nf"
      },
      "source": [
        "Findings：The median comprehensive scores of universities in Beijing and Shanghai are higher, indicating that universities in these cities perform better overall. The median score of universities in Hangzhou is around 70, which is similar to Shanghai, but the IQR is narrower, indicating that the score distribution is more concentrated. For Jinan, the box plot is very short, indicating that the scores of universities in this city are concentrated and low."
      ]
    },
    {
      "cell_type": "markdown",
      "metadata": {
        "id": "-l4Kc1GP60C0"
      },
      "source": [
        "Q3：What is the relationship between academic reputation and world rank?"
      ]
    },
    {
      "cell_type": "code",
      "execution_count": null,
      "metadata": {
        "id": "YSVsMgav612w"
      },
      "outputs": [],
      "source": [
        "mainland.plot(kind = 'scatter', x = 'World_rank', y = 'Academic_reputation', title = 'Rank vs. Academic_reputation')\n",
        "plt.show()"
      ]
    },
    {
      "cell_type": "code",
      "execution_count": null,
      "metadata": {
        "id": "Cc2I5ddy8Dw2"
      },
      "outputs": [],
      "source": [
        "hk.plot(kind = 'scatter', x = 'World_rank', y = 'Academic_reputation', title = 'Rank vs. Academic_reputation')\n",
        "plt.show()"
      ]
    },
    {
      "cell_type": "markdown",
      "source": [
        "Finding:On the whole, the scatter plots of the two regions show a negative correlation trend; that is, the lower the ranking, the higher the academic reputation. This trend may indicate that academic standing is crucial in university rankings.\n",
        "However, there are outliers in both charts, suggesting that some universities have a high academic reputation but are not ranked as well as others. For example, on the HK scatter chart, universities ranked in the 50-100 range have an academic reputation of nearly 70 points. In contrast, universities in the top 50 have the academic reputation of about 60 points. This could be for various reasons, such as the assessment of academic standing being influenced by other factors or some particular situation in the ranking algorithm."
      ],
      "metadata": {
        "id": "EMAE4qHn1UY1"
      }
    },
    {
      "cell_type": "markdown",
      "source": [
        "Q4:What is the geographical distribution of university rankings in Hong Kong and the mainland?"
      ],
      "metadata": {
        "id": "tP0P8YzRxlpd"
      }
    },
    {
      "cell_type": "code",
      "execution_count": null,
      "metadata": {
        "id": "AEGg3Jmn9B0A"
      },
      "outputs": [],
      "source": [
        "hk.World_rank.value_counts()"
      ]
    },
    {
      "cell_type": "code",
      "execution_count": null,
      "metadata": {
        "id": "6xdg3Aj9_EKQ"
      },
      "outputs": [],
      "source": [
        "mainland.World_rank.value_counts()"
      ]
    },
    {
      "cell_type": "code",
      "execution_count": null,
      "metadata": {
        "id": "QNsfY2mvSgu-"
      },
      "outputs": [],
      "source": [
        "# showing different groups\n",
        "import seaborn as sns\n",
        "\n",
        "plt.figure(figsize=(10, 6))\n",
        "sns.histplot(data=hk, x='World_rank', hue='Region', multiple='stack', bins=20, alpha=0.5, legend='brief')\n",
        "plt.title('HK World_rank by region')\n",
        "plt.show()\n",
        "\n"
      ]
    },
    {
      "cell_type": "code",
      "execution_count": null,
      "metadata": {
        "id": "FWjYvJkXuYtm"
      },
      "outputs": [],
      "source": [
        "# showing different groups\n",
        "import seaborn as sns\n",
        "\n",
        "plt.figure(figsize=(20, 11))\n",
        "sns.histplot(data=mainland, x='World_rank', hue='Region', multiple='stack', bins=20, alpha=0.5, legend='brief')\n",
        "plt.title('mainland World_rank by region')\n",
        "plt.show()\n",
        "\n",
        "\n"
      ]
    },
    {
      "cell_type": "markdown",
      "source": [
        "Finding:The analysis indicates higher university rankings in Hong Kong's administrative regions, showcasing the superior standing of its universities globally.  Mainland China's administrative regions exhibit a more dispersed distribution, reflecting variations in university rankings.\n",
        "In Hong Kong, top-ranked universities concentrate in Pok Fu Lam and Hong Kong Island, reflecting moderately centralized educational resources.  Mainland China's administrative areas show a more uniform ranking distribution, with Beijing hosting the highest distribution of top-ranked universities, boasting nine institutions in the top 100.\n",
        "These ranking differences may arise from regional variations in education policies, investment, and academic research levels.  "
      ],
      "metadata": {
        "id": "HHIXlPyI1bN_"
      }
    },
    {
      "cell_type": "markdown",
      "source": [
        "Q5:What are the trends in the QS ranking of the top 500 universities of mainland over the past three years?"
      ],
      "metadata": {
        "id": "ygDG6XrZw3-3"
      }
    },
    {
      "cell_type": "code",
      "source": [
        "mainland_universities = mainland.groupby('University_name').size()\n",
        "print(mainland_universities.index)\n",
        "mainlandNumUniversities = len(mainland_universities)\n",
        "print('num of mainland universities:',mainlandNumUniversities)"
      ],
      "metadata": {
        "id": "JdAMj8Y9xL7P"
      },
      "execution_count": null,
      "outputs": []
    },
    {
      "cell_type": "code",
      "source": [
        "fig = plt.figure(figsize=(20,120))\n",
        "fig.subplots_adjust(hspace=0.5, wspace = 0.4)\n",
        "n = 1\n",
        "for university in mainland_universities.index:\n",
        "    ax = fig.add_subplot(mainlandNumUniversities,4,n)\n",
        "    x = mainland[mainland['University_name'] == university]['Year']\n",
        "    y = mainland[mainland['University_name'] == university]['World_rank']\n",
        "    ax.plot(x,y)\n",
        "    ax.set_xlabel('Year',fontsize=12)\n",
        "    ax.set_ylabel('World_rank',fontsize=12)\n",
        "    ax.legend([university],loc = 'upper right') #title\n",
        "    n = n+1\n",
        "\n",
        "plt.show()"
      ],
      "metadata": {
        "id": "KVduNkcc0jwR"
      },
      "execution_count": null,
      "outputs": []
    },
    {
      "cell_type": "markdown",
      "source": [
        "Finding: Based on the data analysis, we can find that a considerable number of universities experienced a shift in upward or downward trend in 2022, such as Nankai University and Shanghai Jiaotong University; some schools experienced a certain change in the magnitude of the change even though the trend remained the same, such as Zhejiang University and Wuhan University. In addition, Beijing Normal University and Southern University of Science and Technology have maintained a consistent slope downward over the three years. Through this analysis, we can observe the specific trends of the continental university rankings in these three years, which can help to understand the change trends of specific universities."
      ],
      "metadata": {
        "id": "HvwqADcgPyuz"
      }
    },
    {
      "cell_type": "markdown",
      "source": [
        "## Word Cloud Diagram\n",
        "\n",
        "\n"
      ],
      "metadata": {
        "id": "TNuTawGNenxS"
      }
    },
    {
      "cell_type": "code",
      "source": [
        "pip install wordcloud\n"
      ],
      "metadata": {
        "id": "ijd9Q5vuyq1l"
      },
      "execution_count": null,
      "outputs": []
    },
    {
      "cell_type": "code",
      "source": [
        "from wordcloud import WordCloud\n",
        "\n",
        "university_names = [\"QS World Rank\",\"Tsinghua University\", \"Peking University\", \"Fudan University\",\n",
        "    \"Shanghai Jiao Tong University\", \"Zhejiang University\",\n",
        "    \"University of Science and Technology of China\", \"Nanjing University\",\n",
        "    \"Wuhan University\", \"Tongji University\", \"Harbin Institute of Technology\",\n",
        "    \"Sun Yat-sen University\", \"Beijing Normal University\",\n",
        "    \"Xi'an Jiaotong University\", \"Southern University of Science and Technology\",\n",
        "    \"Nankai University\", \"Shanghai University\", \"Tianjin University\",\n",
        "    \"Beijing Institute of Technology\", \"Huazhong University of Science and Technology\",]\n",
        "\n",
        "text = \" \".join(university_names * 10)\n",
        "wordcloud = WordCloud(\n",
        "    width=700, height=700,\n",
        "    background_color='white',\n",
        "    min_font_size=10,\n",
        "    max_words=200,\n",
        "    scale=0.5).generate(text)\n",
        "\n",
        "plt.figure(figsize=(7, 5), facecolor=None)\n",
        "plt.imshow(wordcloud, interpolation=\"bilinear\")\n",
        "plt.axis(\"off\")\n",
        "plt.tight_layout(pad=0.1)\n",
        "plt.show()"
      ],
      "metadata": {
        "id": "H7-C9drYdUyu"
      },
      "execution_count": null,
      "outputs": []
    },
    {
      "cell_type": "markdown",
      "metadata": {
        "id": "y6TBpfAim5Kw"
      },
      "source": [
        "## Map Visualization"
      ]
    },
    {
      "cell_type": "markdown",
      "source": [
        "Map1:The distribution of QS500 universities in China mainland and Hong Kong"
      ],
      "metadata": {
        "id": "1669XaYGO2fp"
      }
    },
    {
      "cell_type": "markdown",
      "source": [
        "Get the data and geographical file."
      ],
      "metadata": {
        "id": "oMY7voqZL1u_"
      }
    },
    {
      "cell_type": "code",
      "source": [
        "#import china geojson\n",
        "baseURL = 'https://kweakkk.github.io/'\n",
        "doc = 'china (1).json'\n",
        "fullURL = baseURL + doc\n",
        "\n",
        "dataPath = drivePath + '/MyDrive/Colab Notebooks/data'\n",
        "\n",
        "# Download the file\n",
        "mapLayer = wget.download(fullURL, out=dataPath)\n",
        "\n",
        "# Print the file name including the local path\n",
        "print(mapLayer)"
      ],
      "metadata": {
        "id": "6xARgB6YeHZW"
      },
      "execution_count": null,
      "outputs": []
    },
    {
      "cell_type": "code",
      "source": [
        "mapLayer"
      ],
      "metadata": {
        "id": "ktyzG1Uynvil"
      },
      "execution_count": null,
      "outputs": []
    },
    {
      "cell_type": "code",
      "source": [
        "#import china geojson\n",
        "baseURL = 'https://kweakkk.github.io/'\n",
        "doc = 'distribution.csv'\n",
        "fullURL = baseURL + doc\n",
        "\n",
        "dataPath = drivePath + '/MyDrive/Colab Notebooks/data'\n",
        "\n",
        "# Download the file\n",
        "data_distribution = wget.download(fullURL, out=dataPath)\n",
        "\n",
        "# Print the file name including the local path\n",
        "print(data_distribution)"
      ],
      "metadata": {
        "id": "Fu6PNQoghLsU"
      },
      "execution_count": null,
      "outputs": []
    },
    {
      "cell_type": "code",
      "execution_count": null,
      "metadata": {
        "id": "VzNaKrnd9C4a"
      },
      "outputs": [],
      "source": [
        "mainlandHK_geo = r'/content/drive/MyDrive/Colab Notebooks/data/china (1).json'"
      ]
    },
    {
      "cell_type": "code",
      "source": [
        "mainlandHK_proportion=pd.read_csv(data_distribution)"
      ],
      "metadata": {
        "id": "obh22VW_l_Gi"
      },
      "execution_count": null,
      "outputs": []
    },
    {
      "cell_type": "code",
      "source": [
        "mainlandHK_proportion.head(10)"
      ],
      "metadata": {
        "id": "5Z5ygRGsmGDT"
      },
      "execution_count": null,
      "outputs": []
    },
    {
      "cell_type": "markdown",
      "source": [
        "Make the labels of map"
      ],
      "metadata": {
        "id": "bZsmFBDoMG8a"
      }
    },
    {
      "cell_type": "code",
      "source": [
        "import json\n",
        "\n",
        "with open(mainlandHK_geo, encoding=\"utf8\") as f:\n",
        "    map_data = json.load(f)\n"
      ],
      "metadata": {
        "id": "4B8F5BYYZCvy"
      },
      "execution_count": null,
      "outputs": []
    },
    {
      "cell_type": "code",
      "source": [
        "[key for key in map_data]"
      ],
      "metadata": {
        "id": "YVzpSwN-bPg3"
      },
      "execution_count": null,
      "outputs": []
    },
    {
      "cell_type": "code",
      "source": [
        "[key for key in map_data['features'][0]]"
      ],
      "metadata": {
        "id": "bRWkLCUubTYu"
      },
      "execution_count": null,
      "outputs": []
    },
    {
      "cell_type": "code",
      "source": [
        "[key for key in map_data['features'][0]['geometry']]"
      ],
      "metadata": {
        "id": "56RB2Fz3bgnp"
      },
      "execution_count": null,
      "outputs": []
    },
    {
      "cell_type": "code",
      "source": [
        "[key for key in map_data['features'][0]['properties']]"
      ],
      "metadata": {
        "id": "DNJBP07WbqB4"
      },
      "execution_count": null,
      "outputs": []
    },
    {
      "cell_type": "code",
      "source": [
        "print(map_data['features'][0]['properties'])"
      ],
      "metadata": {
        "id": "Xi2n4nSRbu4t"
      },
      "execution_count": null,
      "outputs": []
    },
    {
      "cell_type": "code",
      "source": [
        "json_map_file = []\n",
        "for i in range(len(map_data['features'])):\n",
        "    json_map_file.append(map_data['features'][i]['properties']['name'])\n",
        "json_map_file = pd.DataFrame({'Sort_Index': range(len(map_data['features'])), 'Eng_name': json_map_file})\n",
        "mainlandHK_proportion = mainlandHK_proportion.merge(json_map_file, on='Eng_name')\n",
        "#mainlandHK_proportion = mainlandHK_proportion.drop(columns=['Sort_Index_x', 'Sort_Index_y'])#if feedback said duplicate Sort_Index can execute this line\n",
        "mainlandHK_proportion = mainlandHK_proportion.sort_values(by=['Sort_Index']).reset_index(drop=True)\n",
        "mainlandHK_proportion"
      ],
      "metadata": {
        "id": "FWz6eiCBb2Cd"
      },
      "execution_count": null,
      "outputs": []
    },
    {
      "cell_type": "code",
      "source": [
        "tooltip_text = []\n",
        "for Sort_Index in range(len(mainlandHK_proportion)):\n",
        "    tooltip_text.append(mainlandHK_proportion['Eng_name'][Sort_Index]+' '+\n",
        "                        str(int(round(mainlandHK_proportion['proportion'][Sort_Index]*100)))+'%')\n",
        "tooltip_text"
      ],
      "metadata": {
        "id": "ZT5_baBBgOgx"
      },
      "execution_count": null,
      "outputs": []
    },
    {
      "cell_type": "code",
      "source": [
        "for idx in range(len(tooltip_text)):\n",
        "    map_data['features'][idx]['properties']['tooltip1'] = tooltip_text[idx]"
      ],
      "metadata": {
        "id": "hICX-gllgo-W"
      },
      "execution_count": null,
      "outputs": []
    },
    {
      "cell_type": "code",
      "source": [
        "print(map_data['features'][32]['properties'])"
      ],
      "metadata": {
        "id": "rIGNmpprgzWS"
      },
      "execution_count": null,
      "outputs": []
    },
    {
      "cell_type": "code",
      "source": [
        "#save the tooltip\n",
        "with open('china (1).json', 'w') as output:\n",
        "    json.dump(map_data, output)"
      ],
      "metadata": {
        "id": "9KwpY2gOiyer"
      },
      "execution_count": null,
      "outputs": []
    },
    {
      "cell_type": "markdown",
      "source": [
        "Make the distribution map\n",
        "\n",
        "Q6:What is the distribution on map of QS500 universities of China mainland and Hong Kong?"
      ],
      "metadata": {
        "id": "fPv5QFiHMVZm"
      }
    },
    {
      "cell_type": "code",
      "source": [
        "mainland_HK_geo=map_data\n",
        "map1 = folium.Map([39.9, 116.3], tiles='cartodbpositron', zoom_start=4)\n",
        "tiles = ['stamenwatercolor', 'cartodbpositron', 'openstreetmap', 'stamenterrain']\n",
        "folium.GeoJson(mapLayer).add_to(map1)\n",
        "for tile in tiles:\n",
        "    folium.TileLayer(tile).add_to(map1)\n",
        "\n",
        "\n",
        "choropleth = folium.Choropleth(\n",
        "    geo_data= mainland_HK_geo,\n",
        "    name = 'choropleth',\n",
        "    data = mainlandHK_proportion,\n",
        "    columns = ['Eng_name','university_number','proportion'],\n",
        "    key_on = 'feature.properties.name',\n",
        "    fill_color = 'YlGn',\n",
        "    fill_opacity = 0.7,\n",
        "    line_opacity = 0.2,\n",
        "    legend_name = '2023 China mainland and HK QS500 Universities Distribution',\n",
        "    highlight = True\n",
        ").add_to(map1)\n",
        "\n",
        "folium.LayerControl().add_to(map1)\n",
        "# Display Region Label\n",
        "choropleth.geojson.add_child(\n",
        "    folium.features.GeoJsonTooltip(['tooltip1'], labels=False)\n",
        ")"
      ],
      "metadata": {
        "id": "GHjc2Wg3hXcY"
      },
      "execution_count": null,
      "outputs": []
    },
    {
      "cell_type": "code",
      "execution_count": null,
      "metadata": {
        "id": "WAqAzujx-NsA"
      },
      "outputs": [],
      "source": [
        "map1"
      ]
    },
    {
      "cell_type": "code",
      "source": [
        "#save the map\n",
        "map1.save('map1.html')"
      ],
      "metadata": {
        "id": "PVu4kQWvdeW5"
      },
      "execution_count": null,
      "outputs": []
    },
    {
      "cell_type": "markdown",
      "source": [
        "Finding: Based on the map visualization, We can find that most of the QS500 universities in China are concentrated in the eastern and central regions of China, where the regions with the most universities are Beijing, Shanghai, and Hong Kong, which account for 18%, 12% and 18% respectively. In addition, Hubei Province, Guangdong Province, Jiangsu Province and Tianjin each account for 6%, so we can deduce that these places are richer in educational resources compared to other regions. In contrast, many provinces in the west have 0%, but it could also be related to the fact that some Chinese universities do not participate in the QS ranking."
      ],
      "metadata": {
        "id": "3rQJC57tXth0"
      }
    },
    {
      "cell_type": "markdown",
      "source": [
        "Map2:the relevant universities of Hong Kong's map"
      ],
      "metadata": {
        "id": "86NiPT8RPO9M"
      }
    },
    {
      "cell_type": "code",
      "source": [
        "import pandas as pd\n",
        "import folium\n",
        "import json\n",
        "from IPython.display import IFrame\n",
        "import warnings\n",
        "warnings.filterwarnings(action='ignore', category=RuntimeWarning)\n",
        "from folium.plugins import MarkerCluster"
      ],
      "metadata": {
        "id": "i3O7i8HgOWmh"
      },
      "execution_count": null,
      "outputs": []
    },
    {
      "cell_type": "code",
      "source": [
        "baseURL = 'https://kweakkk.github.io/'\n",
        "doc = 'data.xlsx'\n",
        "fullURL = baseURL + doc\n",
        "\n",
        "dataPath = drivePath + '/MyDrive/Colab Notebooks/data'\n",
        "\n",
        "# Download the file\n",
        "filename3 = wget.download(fullURL, out=dataPath)\n",
        "\n",
        "# Print the file name including the local path\n",
        "print(filename3)"
      ],
      "metadata": {
        "id": "P3v17Qz6WYzj"
      },
      "execution_count": null,
      "outputs": []
    },
    {
      "cell_type": "code",
      "source": [
        "data = pd.read_excel(\"/content/drive/MyDrive/Colab Notebooks/data/data.xlsx\")\n",
        "data = data[data.Year==2023].copy()\n",
        "data.head()"
      ],
      "metadata": {
        "id": "3yAkno0JNeX1"
      },
      "execution_count": null,
      "outputs": []
    },
    {
      "cell_type": "code",
      "source": [
        "boulder_coords = [22.38, 114.15]\n",
        "\n",
        "#Create the map\n",
        "my_map = folium.Map(location = boulder_coords, zoom_start = 10)\n",
        "\n",
        "#Display the map\n",
        "my_map\n",
        "\n",
        "for index, row in data.iterrows():\n",
        "    lat = row[\"lat\"]\n",
        "    lon = row[\"long\"]\n",
        "    name =  row[\"University_name\"]\n",
        "    rank= row[\"World_rank\"]\n",
        "    folium.Marker([lat, lon], popup = \"Name: \" + name + \"<br>\" + \"Rank: \" + str(rank) +\"<br>Overall score\" + str(row[\"Overall_score\"] )).add_to(my_map)\n",
        "my_map"
      ],
      "metadata": {
        "id": "tnpl01gANo9W"
      },
      "execution_count": null,
      "outputs": []
    },
    {
      "cell_type": "markdown",
      "source": [
        "# Result\n",
        "The three-year analysis of university rankings in Hong Kong and mainland China unveils significant trends.  Hong Kong universities consistently secure higher rankings, whereas mainland Chinese universities exhibit a more diverse distribution influenced by regional factors.  The negative correlation between rankings and academic reputation underscores the pivotal role of academic standing, yet outliers hint at additional influencing factors.  The map underscores the concentration of universities in eastern and central China, particularly in Beijing, Shanghai, and Hong Kong, suggesting a concentration of educational resources in these regions.\n",
        "\n",
        "Specific university examinations, such as Nankai University, Shanghai Jiaotong University, Zhejiang University, and Wuhan University, provide nuanced insights into the evolving academic landscape.  This comprehensive analysis sheds light on the factors impacting university rankings and the regional dynamics that shape academic excellence."
      ],
      "metadata": {
        "id": "153Nld_EghjL"
      }
    },
    {
      "cell_type": "markdown",
      "source": [],
      "metadata": {
        "id": "1a-J7y4Lp1MF"
      }
    }
  ],
  "metadata": {
    "colab": {
      "provenance": []
    },
    "kernelspec": {
      "display_name": "Python 3",
      "name": "python3"
    },
    "language_info": {
      "name": "python"
    }
  },
  "nbformat": 4,
  "nbformat_minor": 0
}