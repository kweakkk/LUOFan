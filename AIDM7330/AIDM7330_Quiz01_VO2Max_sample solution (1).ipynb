{
 "cells": [
  {
   "cell_type": "markdown",
   "metadata": {},
   "source": [
    "# My first assignment\n",
    "\n",
    "Students' details:\n",
    "- Name: Chan Dai Man\n",
    "- Student ID: 888888888"
   ]
  },
  {
   "cell_type": "code",
   "execution_count": 1,
   "metadata": {},
   "outputs": [
    {
     "name": "stdout",
     "output_type": "stream",
     "text": [
      "Your maximum heart rate: 185\n",
      "Your resting heart rate: 60\n",
      "Your VO2MAX is: 46.25\n"
     ]
    }
   ],
   "source": [
    "hrMax = input('Your maximum heart rate: ')\n",
    "hrRest = input('Your resting heart rate: ')\n",
    "VO2Max = 15 * float(hrMax) / float(hrRest)\n",
    "print('Your VO2MAX is:', VO2Max)"
   ]
  },
  {
   "cell_type": "code",
   "execution_count": null,
   "metadata": {},
   "outputs": [],
   "source": []
  }
 ],
 "metadata": {
  "kernelspec": {
   "display_name": "Python 3",
   "language": "python",
   "name": "python3"
  },
  "language_info": {
   "codemirror_mode": {
    "name": "ipython",
    "version": 3
   },
   "file_extension": ".py",
   "mimetype": "text/x-python",
   "name": "python",
   "nbconvert_exporter": "python",
   "pygments_lexer": "ipython3",
   "version": "3.8.8"
  }
 },
 "nbformat": 4,
 "nbformat_minor": 4
}
